{
  "nbformat": 4,
  "nbformat_minor": 0,
  "metadata": {
    "colab": {
      "name": "Pre course 2주차 과제.ipynb",
      "provenance": [],
      "collapsed_sections": [],
      "authorship_tag": "ABX9TyMkXCvHkgLKyLJeNvqI+udO",
      "include_colab_link": true
    },
    "kernelspec": {
      "name": "python3",
      "display_name": "Python 3"
    }
  },
  "cells": [
    {
      "cell_type": "markdown",
      "metadata": {
        "id": "view-in-github",
        "colab_type": "text"
      },
      "source": [
        "<a href=\"https://colab.research.google.com/github/JAEMINJAEMIN/AI_Project/blob/master/Pre_course_2%EC%A3%BC%EC%B0%A8_%EA%B3%BC%EC%A0%9C.ipynb\" target=\"_parent\"><img src=\"https://colab.research.google.com/assets/colab-badge.svg\" alt=\"Open In Colab\"/></a>"
      ]
    },
    {
      "cell_type": "markdown",
      "metadata": {
        "id": "NoVcOOJVs-Rj",
        "colab_type": "text"
      },
      "source": [
        "# 2주차 과제 (인공지능 사관학교)"
      ]
    },
    {
      "cell_type": "markdown",
      "metadata": {
        "id": "oO-PXX_ZtIL9",
        "colab_type": "text"
      },
      "source": [
        "### 01번 문제 (Data Type)\n",
        "\n",
        "__다음 변수 a, 변수 b, 변수 c의 자료형을 출력하세요.__"
      ]
    },
    {
      "cell_type": "code",
      "metadata": {
        "id": "Vd_ZDnerXazA",
        "colab_type": "code",
        "outputId": "9105348d-14df-4378-9296-5f516faf7352",
        "colab": {
          "base_uri": "https://localhost:8080/",
          "height": 34
        }
      },
      "source": [
        "## 1번 문제 (다음 변수 a, b, c의 자료형을 출력하시오.) 주어진 변수 a,b,c 직접 수정 불가\n",
        "a = 'str'\n",
        "b = 123\n",
        "c = True\n",
        "\n",
        "print(type(a),type(b),type(c))\n",
        "## 출력"
      ],
      "execution_count": 0,
      "outputs": [
        {
          "output_type": "stream",
          "text": [
            "<class 'str'> <class 'int'> <class 'bool'>\n"
          ],
          "name": "stdout"
        }
      ]
    },
    {
      "cell_type": "markdown",
      "metadata": {
        "id": "FZawXpXwtOIL",
        "colab_type": "text"
      },
      "source": [
        "### 02번 문제 (for문)\n",
        "\n",
        "__다음 변수 num_list에 있는 요소를 모두 더한 값을 for문을 활용하여 변수 answer에 저장하고  그 값을 출력하세요.__"
      ]
    },
    {
      "cell_type": "code",
      "metadata": {
        "id": "-CpXV8tC9Lqd",
        "colab_type": "code",
        "outputId": "e29a8c35-60e0-4834-c2a4-f0df102665d8",
        "colab": {
          "base_uri": "https://localhost:8080/",
          "height": 34
        }
      },
      "source": [
        "## 2번 문제 (다음 변수 num_list에 있는 요소를 모두 더한 값을 for문을 활용하여 변수 answer에 저장하고 그 값을 출력하시오.)\n",
        "## 주어진 변수 (num_list) 직접 수정 불가, for문 사용하지 않으면 오답 처리\n",
        "num_list = [1,2,3,4,5,6,7,8,9]\n",
        "answer = 0\n",
        "\n",
        "for i in range(len(num_list)):\n",
        "  answer = answer + num_list[i]\n",
        "\n",
        "print(answer)\n",
        "## 출력"
      ],
      "execution_count": 0,
      "outputs": [
        {
          "output_type": "stream",
          "text": [
            "45\n"
          ],
          "name": "stdout"
        }
      ]
    },
    {
      "cell_type": "markdown",
      "metadata": {
        "id": "nbXBvmpptRAN",
        "colab_type": "text"
      },
      "source": [
        "### 03번 문제 (slice string)\n",
        "\n",
        "__다음 변수 date를 슬라이스해서 year(년), month(월), day(일)를 각각 출력하세요.__ (출력 : 2020 05 11)\n",
        "\n",
        "(tip: None을 지우고 date를 슬라이싱해서 각각의 데이터를 저장하세요!)"
      ]
    },
    {
      "cell_type": "code",
      "metadata": {
        "id": "gpwMV91MAtga",
        "colab_type": "code",
        "outputId": "80d5ab74-de2e-4a51-c822-4d613c5613e3",
        "colab": {
          "base_uri": "https://localhost:8080/",
          "height": 34
        }
      },
      "source": [
        "## 3번 문제 (다음 변수 date를 슬라이스해서 Year, month, day를 각각 출력하시오.)\n",
        "## 주어진 변수 date만 직접 수정 불가, 다른 year, month, day변수는 직접 수정 가능, 슬라이스를 사용하지 않을 경우 오답처리\n",
        "date = '20200511'\n",
        "\n",
        "year = date[0:4]\n",
        "month = date[4:6]\n",
        "day = date[6:]\n",
        "\n",
        "print(year, month, day)\n",
        "## 출력"
      ],
      "execution_count": 0,
      "outputs": [
        {
          "output_type": "stream",
          "text": [
            "2020 05 11\n"
          ],
          "name": "stdout"
        }
      ]
    },
    {
      "cell_type": "markdown",
      "metadata": {
        "id": "idxsNmJftTul",
        "colab_type": "text"
      },
      "source": [
        "### 04번 문제(for)\n",
        "\n",
        "__다음 변수 summary에 1 부터 100까지 모두 더한 값을 저장하여 출력하세요.__\n"
      ]
    },
    {
      "cell_type": "code",
      "metadata": {
        "id": "3UweqYU8FCzh",
        "colab_type": "code",
        "outputId": "9e0a1fed-8fbb-4994-abfc-560b8e6ef7ac",
        "colab": {
          "base_uri": "https://localhost:8080/",
          "height": 34
        }
      },
      "source": [
        "## 4번 문제 (다음 변수 summary에 1부터 100까지 모두 더한 값을 저장하여 출력하시오.)\n",
        "## 주어진 변수 summary 직접 수정 불가\n",
        "summary = 0\n",
        "for i in range(101):\n",
        "  summary += i\n",
        "print(summary)\n",
        "## 출력"
      ],
      "execution_count": 0,
      "outputs": [
        {
          "output_type": "stream",
          "text": [
            "5050\n"
          ],
          "name": "stdout"
        }
      ]
    },
    {
      "cell_type": "markdown",
      "metadata": {
        "id": "G63W1envtcWi",
        "colab_type": "text"
      },
      "source": [
        "### 05번 문제(string reverse)\n",
        "\n",
        "__다음 변수 hangul의 문자열을 거꾸로 출력하세요. (출력:‘사바마라다나가’)__"
      ]
    },
    {
      "cell_type": "code",
      "metadata": {
        "id": "QqOAu-FZIQ5A",
        "colab_type": "code",
        "outputId": "3347f896-d4ec-4282-d4b5-a02c40529499",
        "colab": {
          "base_uri": "https://localhost:8080/",
          "height": 34
        }
      },
      "source": [
        "## 5번 문제 (다음 변수 hangul의 문자열을 거꾸로 출력하시오.)\n",
        "## 주어진 변수 hangul 직접 수정 불가\n",
        "\n",
        "hangul = '가나다라마바사'\n",
        "print(hangul[::-1])\n",
        "## 출력"
      ],
      "execution_count": 0,
      "outputs": [
        {
          "output_type": "stream",
          "text": [
            "사바마라다나가\n"
          ],
          "name": "stdout"
        }
      ]
    },
    {
      "cell_type": "markdown",
      "metadata": {
        "id": "MvQoJ6w2tezs",
        "colab_type": "text"
      },
      "source": [
        "### 06번 문제(str -> list -> int 변환)\n",
        "\n",
        "__다음 변수 num에는 공백으로 구분된 4개의 점수가 들어 있습니다. 평균을 구해서 출력하세요.__"
      ]
    },
    {
      "cell_type": "code",
      "metadata": {
        "id": "yNzyeHk5K0ML",
        "colab_type": "code",
        "outputId": "6abcc08d-d8a7-4afe-9149-811f5754c154",
        "colab": {
          "base_uri": "https://localhost:8080/",
          "height": 34
        }
      },
      "source": [
        "## 6번 문제 (다음 변수 num에는 공백으로 구분된 4개의 점수가 들어 있습니다. 평균을 구해서 출력하시오.) str -> list -> int 변환\n",
        "## 주어진 변수 num 직접 수정 불가\n",
        "num = \"70 50 90 70\"\n",
        "\n",
        "spnum = list(map(int, num.split(' ')))\n",
        "avgsum = sum(spnum) / len(spnum)\n",
        "\n",
        "print(avgsum)\n",
        "## 출력"
      ],
      "execution_count": 0,
      "outputs": [
        {
          "output_type": "stream",
          "text": [
            "70.0\n"
          ],
          "name": "stdout"
        }
      ]
    },
    {
      "cell_type": "markdown",
      "metadata": {
        "id": "gapxJnbRtkMP",
        "colab_type": "text"
      },
      "source": [
        "### 07번 문제(if문)\n",
        "\n",
        "__다음 변수 n에 입력한 값이 짝수 일 경우 ‘짝수’를, 짝수가 아닐 경우 ‘짝수가 아닙니다’를 판별하여 출력하세요.__ (출력: __짝수__ or __짝수가 아닙니다__)\n"
      ]
    },
    {
      "cell_type": "code",
      "metadata": {
        "id": "11m2XpBxkmXd",
        "colab_type": "code",
        "outputId": "c9320941-d4ee-4260-cf48-5fb2ff27e3ed",
        "colab": {
          "base_uri": "https://localhost:8080/",
          "height": 51
        }
      },
      "source": [
        "## 7번 문제 (다음 변수 n에 입력한 값이 짝수면 '짝수', 아닐경우 '짝수가 아닙니다'를 판별하여 출력하시오.)\n",
        "## 주어진 변수 n 직접 수정 불가\n",
        "\n",
        "n = int(input('숫자를 입력하시오.'))\n",
        "\n",
        "if n%2 == 0:\n",
        "  print (\"짝수\")\n",
        "else:\n",
        "    print(\"짝수가 아닙니다.\")\n",
        "    ## 출력"
      ],
      "execution_count": 0,
      "outputs": [
        {
          "output_type": "stream",
          "text": [
            "숫자를 입력하시오.11\n",
            "짝수가 아닙니다.\n"
          ],
          "name": "stdout"
        }
      ]
    },
    {
      "cell_type": "markdown",
      "metadata": {
        "id": "AJJLVEOCtnkR",
        "colab_type": "text"
      },
      "source": [
        "### 08번 문제(산술 연산 및 list index)\n",
        "\n",
        "__직사각형의 대각선의 길이를 구하는 공식은 밑변의 제곱 + 높이의 제곱 = 대각선의 제곱이다.__\n",
        "\n",
        "__다음 변수 list_08에는 하나의 직사각형의 밑변과 높이가 저장되어 있습니다.__\n",
        "\n",
        "__각각 밑변이 3이고 높이가 4일 때, 직사각형의 대각선의 제곱의 길이를 출력하세요.__"
      ]
    },
    {
      "cell_type": "code",
      "metadata": {
        "id": "Of7tbmaYjkfc",
        "colab_type": "code",
        "outputId": "54d51888-4184-47ba-973c-e117e0ec1677",
        "colab": {
          "base_uri": "https://localhost:8080/",
          "height": 34
        }
      },
      "source": [
        "## 8번 문제 (각각 밑변이 3, 높이가 4일때, 직사각형의 대각선의 제곱의 길이를 출력하시오.)\n",
        "## 주어진 변수 list_08 직접 수정 불가\n",
        "\n",
        "list_08 = [3,4]\n",
        "\n",
        "d_rectangle = list_08[0] ** 2 + list_08[1] ** 2\n",
        "print(d_rectangle)\n",
        "## 출력"
      ],
      "execution_count": 0,
      "outputs": [
        {
          "output_type": "stream",
          "text": [
            "25\n"
          ],
          "name": "stdout"
        }
      ]
    },
    {
      "cell_type": "markdown",
      "metadata": {
        "id": "OcEYJChDtqTX",
        "colab_type": "text"
      },
      "source": [
        "### 09번 문제(소수 판별 프로그램)\n",
        "__입력받은 숫자가 소수인지 아닌지 출력하는 프로그램을 작성 해 주세요.__ (출력 : __소수__ or __소수가 아닙니다__)"
      ]
    },
    {
      "cell_type": "code",
      "metadata": {
        "id": "MGqHC1fp1GGc",
        "colab_type": "code",
        "outputId": "7c619a4c-db16-46a0-aae5-d9dad90ac09b",
        "colab": {
          "base_uri": "https://localhost:8080/",
          "height": 51
        }
      },
      "source": [
        "## 9번 문제 (입력 받은 숫자가 소수인지 아닌지 출력하는 프로그램을 작성하시오.)\n",
        "## 주어진 변수 num_10 직접 수정 불가, 함수 prime_number 직접 수정 가능\n",
        "num_10 = int(input('숫자를 입력하시오'))\n",
        "\n",
        "\n",
        "def prime_number(n):\n",
        "  chk = True\n",
        "  for i in range(2,n):\n",
        "    if n%i==0:\n",
        "      chk = False\n",
        "      break\n",
        "\n",
        "  if chk:\n",
        "    print('소수')\n",
        "  else:\n",
        "    print('소수가 아닙니다.')\n",
        "\n",
        "prime_number(num_10)\n",
        "## 출력"
      ],
      "execution_count": 0,
      "outputs": [
        {
          "output_type": "stream",
          "text": [
            "숫자를 입력하시오17\n",
            "소수\n"
          ],
          "name": "stdout"
        }
      ]
    },
    {
      "cell_type": "markdown",
      "metadata": {
        "id": "OOQYxufLgs0X",
        "colab_type": "text"
      },
      "source": [
        "# 인공지능 수학 문제"
      ]
    },
    {
      "cell_type": "markdown",
      "metadata": {
        "id": "2qmsFhnYgyPp",
        "colab_type": "text"
      },
      "source": [
        "##1번 문제 (Hypothesis)\n",
        "다음 공식은 Hypothesis를 구하는 공식입니다. 다음과 같이 값이 주어졌을때 h(x)의 값을 구하시오.\n",
        "\n",
        "- W = 3\n",
        "- x = 10\n",
        "- b = 1"
      ]
    },
    {
      "cell_type": "markdown",
      "metadata": {
        "id": "bBsvlvOUg_fF",
        "colab_type": "text"
      },
      "source": [
        "# $$h(x) = Wx + b$$"
      ]
    },
    {
      "cell_type": "markdown",
      "metadata": {
        "id": "V4Z0E2XDhoM7",
        "colab_type": "text"
      },
      "source": [
        ""
      ]
    },
    {
      "cell_type": "markdown",
      "metadata": {
        "id": "_utK4cJphEPc",
        "colab_type": "text"
      },
      "source": [
        "### 정답 : h(10) = 31"
      ]
    },
    {
      "cell_type": "markdown",
      "metadata": {
        "id": "eQG-jm5hhLQJ",
        "colab_type": "text"
      },
      "source": [
        "## 2번 문제 (Cost function)\n",
        "\n",
        "다음 공식은 Cost를 구하는 공식입니다. 다음과 같이 값이 주어졌을때 cost의 값을 구하세요.\n",
        "\n",
        "* W = 2\n",
        "* x = [2, 4, 8]\n",
        "* y = [5, 12, 21]\n",
        "\n",
        "(tip: x1=2, y1=5 / x2=4, y2=12 / x3=8, y3=21)"
      ]
    },
    {
      "cell_type": "markdown",
      "metadata": {
        "id": "yEGJxoTnhk_m",
        "colab_type": "text"
      },
      "source": [
        "# $$cost(W) =  \\frac{1}{n}\\sum_{i=1}^n (Wx^{(i)}-y^{(i)})^2$$"
      ]
    },
    {
      "cell_type": "markdown",
      "metadata": {
        "id": "mzy1KZhghoDE",
        "colab_type": "text"
      },
      "source": [
        "### 정답 : 14\n"
      ]
    },
    {
      "cell_type": "markdown",
      "metadata": {
        "id": "HVUhFFQ9qtTc",
        "colab_type": "text"
      },
      "source": [
        "## 3번 문제 (Logistic regression sigmoid function)\n",
        "\n",
        "다음 공식은 로지스틱 시그모이드 함수입니다. x가 __양의 무한대로__ 갈때 f(x)가 수렴하는 값을 구하세요.\n",
        "\n",
        "![대체 텍스트](https://prwatech.in/blog/wp-content/uploads/2020/02/logi3.png)"
      ]
    },
    {
      "cell_type": "markdown",
      "metadata": {
        "id": "xa0n6VNcq2O4",
        "colab_type": "text"
      },
      "source": [
        "#### 정답 : 1\n"
      ]
    }
  ]
}